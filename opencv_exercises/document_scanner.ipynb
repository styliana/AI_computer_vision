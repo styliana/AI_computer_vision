{
 "cells": [
  {
   "cell_type": "code",
   "execution_count": 1,
   "id": "619e563d-1c82-4343-aa38-68d4259fec32",
   "metadata": {},
   "outputs": [
    {
     "data": {
      "text/plain": [
       "' Program that acts like a document scanner. '"
      ]
     },
     "execution_count": 1,
     "metadata": {},
     "output_type": "execute_result"
    }
   ],
   "source": [
    "''' Program that acts like a document scanner. '''"
   ]
  },
  {
   "cell_type": "code",
   "execution_count": 2,
   "id": "f38d32c6-c0ae-4141-957e-67f12692f942",
   "metadata": {},
   "outputs": [],
   "source": [
    "import cv2\n",
    "import numpy as np"
   ]
  },
  {
   "cell_type": "code",
   "execution_count": 19,
   "id": "42025623-14be-4c7c-af49-8c5309b16590",
   "metadata": {},
   "outputs": [],
   "source": [
    "img = cv2.imread('data/gerry.png')\n",
    "cv2.imshow('Original', img)\n",
    "cv2.waitKey(0)\n",
    "cv2.destroyAllWindows()"
   ]
  },
  {
   "cell_type": "code",
   "execution_count": 4,
   "id": "131027f8-9cac-4ea4-92ae-34c557a09863",
   "metadata": {},
   "outputs": [],
   "source": [
    "#We know the coordinates of the gerry image inside image border\n",
    "#define the starting points eg the corners of the original image\n",
    "# tl 28,227\n",
    "# bl 131,987\n",
    "# br 730,860\n",
    "# tr 572,149"
   ]
  },
  {
   "cell_type": "code",
   "execution_count": 21,
   "id": "f497e1db-40fe-4067-8efe-01cee0f64c0f",
   "metadata": {},
   "outputs": [],
   "source": [
    "src_points = np.float32([\n",
    "    [28,277],\n",
    "    [131,987],\n",
    "    [730,860],\n",
    "    [572,149]\n",
    "])\n",
    "\n",
    "#define destination points - of the resolution of final image eg 800x600\n",
    "dst_points = np.float32([\n",
    "    [0,0],\n",
    "    [0,800],\n",
    "    [600,800],\n",
    "    [600,0]\n",
    "])\n",
    "\n",
    "\n",
    "#get the transformation matrix with NOT AFFINE TRANSFORMATION (like square becomes square, but square is skewed etc becomign quadrangle) BUT  PERSPECTIVE\n",
    "M = cv2.getPerspectiveTransform(src_points,dst_points)\n",
    "\n",
    "#apply to image\n",
    "new_img = cv2.warpPerspective(img,M,(600,800))\n",
    "\n",
    "cv2.namedWindow('Transformed',cv2.WINDOW_KEEPRATIO)\n",
    "cv2.imshow('Transformed', new_img)\n",
    "cv2.waitKey(0)\n",
    "cv2.destroyAllWindows()"
   ]
  },
  {
   "cell_type": "code",
   "execution_count": null,
   "id": "b12ef1e7-7318-41e9-8a7b-d81996804303",
   "metadata": {},
   "outputs": [],
   "source": []
  },
  {
   "cell_type": "code",
   "execution_count": null,
   "id": "ef0d1caa-e533-484a-8f4d-0cb0daea43ec",
   "metadata": {},
   "outputs": [],
   "source": []
  }
 ],
 "metadata": {
  "kernelspec": {
   "display_name": "Python [conda env:base] *",
   "language": "python",
   "name": "conda-base-py"
  },
  "language_info": {
   "codemirror_mode": {
    "name": "ipython",
    "version": 3
   },
   "file_extension": ".py",
   "mimetype": "text/x-python",
   "name": "python",
   "nbconvert_exporter": "python",
   "pygments_lexer": "ipython3",
   "version": "3.12.7"
  }
 },
 "nbformat": 4,
 "nbformat_minor": 5
}
