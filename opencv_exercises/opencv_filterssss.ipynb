{
 "cells": [
  {
   "cell_type": "code",
   "execution_count": 7,
   "metadata": {},
   "outputs": [],
   "source": [
    "import numpy as np\n",
    "import cv2\n",
    "\n",
    "my_kernel = np.array([\n",
    "\n",
    "    [0.5,0.5,0.5], #average on vicini pixels\n",
    "    [0.5,0.5,0.5],\n",
    "    [0.5,0.5,0.5]\n",
    "])\n",
    "\n",
    "img = cv2.imread('data/lena.jpg')\n",
    "filtered_img = cv2.filter2D(img,-1,my_kernel)\n",
    "cv2.imshow('filtered blurred low resolution lena',filtered_img)\n",
    "cv2.waitKey(0)\n",
    "cv2.destroyAllWindows()"
   ]
  },
  {
   "cell_type": "code",
   "execution_count": null,
   "metadata": {},
   "outputs": [],
   "source": [
    "# blur\n",
    "\n",
    "filtered_img = cv2.blur(img,(7,7)) #kernel is 7x7. the bigger it is the more blurrd image\n",
    "\n",
    "cv2.imshow('original', img)\n",
    "cv2.imshow('blurred', filtered_img)\n",
    "\n",
    "cv2.waitKey(0)\n",
    "cv2.destroyAllWindows()"
   ]
  },
  {
   "cell_type": "code",
   "execution_count": null,
   "metadata": {},
   "outputs": [],
   "source": [
    "# blur\n",
    "\n",
    "img = cv2.imread('data/salt_pepper.png')\n",
    "filtered_img = cv2.GaussianBlur(img,(3,3),1,1)\n",
    "cv2.imshow('original', img)\n",
    "cv2.imshow('blurred', filtered_img)\n",
    "\n",
    "cv2.waitKey(0)\n",
    "cv2.destroyAllWindows()"
   ]
  },
  {
   "cell_type": "code",
   "execution_count": null,
   "metadata": {},
   "outputs": [],
   "source": [
    "#get rid of salt and papper effect\n",
    "\n",
    "filtered_img = cv2.medianBlur(img,3)\n",
    "cv2.imshow('original', img)\n",
    "cv2.imshow('blurred', filtered_img) #wow we deleted the salt and peper effect. \n",
    "# this one is the best for doing this type of blur. you can choose from many methods\n",
    "\n",
    "cv2.waitKey(0)\n",
    "cv2.destroyAllWindows()"
   ]
  },
  {
   "cell_type": "code",
   "execution_count": null,
   "metadata": {},
   "outputs": [],
   "source": [
    "#shrapen image\n",
    "\n",
    "img = cv2.imread('data/lena.jpg')\n",
    "smoothed_img = cv2.GaussianBlur(img,(9,9),10)\n",
    "final_img = cv2.addWeighted(img,1.5,smoothed_img,-0.5,0) #Add images on on top of the other. \n",
    "# image, how much you want to see this on the final image, \n",
    "# #nother image, how much it should be shown in the final result. \n",
    "# last parameter is gamma for fixing colors but we dont do anything\n",
    "cv2.imshow('original', img)\n",
    "cv2.imshow('result', final_img) \n",
    "\n",
    "cv2.waitKey(0)\n",
    "cv2.destroyAllWindows()"
   ]
  },
  {
   "cell_type": "code",
   "execution_count": 20,
   "metadata": {},
   "outputs": [],
   "source": [
    "sharpen_kernel = np.array([\n",
    "\n",
    "    [0,-1,0],\n",
    "    [-1,5,-1],\n",
    "    [0,-1,0]\n",
    "])\n",
    "\n",
    "filtered_img = cv2.filter2D(img,-1,sharpen_kernel)\n",
    "cv2.imshow('original', img)\n",
    "cv2.imshow('result', final_img) \n",
    "\n",
    "cv2.waitKey(0)\n",
    "cv2.destroyAllWindows()"
   ]
  },
  {
   "cell_type": "code",
   "execution_count": null,
   "metadata": {},
   "outputs": [],
   "source": [
    "#convert into grayscale\n",
    "gray = cv2.cvtColor(img,cv2.COLOR_BGR2GRAY)\n",
    "\n",
    "grad_x = cv2.Sobel(gray,-1,1,0) #1 for computing x deriv\n",
    "grad_y = cv2.Sobel(gray,-1,0,1) #1 for computing y deriv\n",
    "\n",
    "abs_x = cv2.convertScaleAbs(grad_x)\n",
    "abs_y = cv2.convertScaleAbs(grad_y)\n",
    "\n",
    "grad = cv2.addWeighted(abs_x, 0.5, abs_y, 0.5, 0)\n",
    "\n",
    "cv2.imshow('abs scale blah blah', grad) #you get the contour of the image!!!! cool\n",
    "cv2.waitKey(0)\n",
    "cv2.destroyAllWindows()\n",
    "\n",
    "abs = cv2.Laplacian(gray, -1,(3,3))\n",
    "abs_scaled = cv2.convertScaleAbs(abs)\n",
    "\n",
    "cv2.imshow('laplacian', abs) #less contorus and less noisy result\n",
    "cv2.waitKey(0)\n",
    "cv2.destroyAllWindows()"
   ]
  }
 ],
 "metadata": {
  "kernelspec": {
   "display_name": "base",
   "language": "python",
   "name": "python3"
  },
  "language_info": {
   "codemirror_mode": {
    "name": "ipython",
    "version": 3
   },
   "file_extension": ".py",
   "mimetype": "text/x-python",
   "name": "python",
   "nbconvert_exporter": "python",
   "pygments_lexer": "ipython3",
   "version": "3.12.7"
  }
 },
 "nbformat": 4,
 "nbformat_minor": 2
}
