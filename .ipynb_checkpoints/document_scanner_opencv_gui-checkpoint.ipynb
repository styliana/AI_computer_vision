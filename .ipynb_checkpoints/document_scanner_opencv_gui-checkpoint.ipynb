{
 "cells": [
  {
   "cell_type": "code",
   "execution_count": 1,
   "id": "529032f8-c057-4928-9941-288d238eeaf5",
   "metadata": {},
   "outputs": [],
   "source": [
    "import cv2\n",
    "import numpy as np"
   ]
  },
  {
   "cell_type": "code",
   "execution_count": 2,
   "id": "84be723e-7c0b-49b8-8768-981675241b65",
   "metadata": {},
   "outputs": [],
   "source": [
    "#define funct\n",
    "def onClick(event,x,y,flags,params):\n",
    "    #consider just the left mouse button clicks\n",
    "    if event == cv2.EVENT_LBUTTONDOWN:\n",
    "\n",
    "        #check if we have 4 points needed for the perspective transformation\n",
    "        if len(src_points) < 4:\n",
    "            #add the clicked point to the source point list\n",
    "            src_points.append([x,y])\n",
    "            #draw the clicked point on the image\n",
    "            cv2.circle(img_copy, (x,y),10,(0,0,255), -1)\n",
    "            cv2.imshow('Img', img_copy)\n",
    "        "
   ]
  },
  {
   "cell_type": "code",
   "execution_count": 3,
   "id": "ee323f9d-a33b-4d9f-802e-c5074c9f57bb",
   "metadata": {},
   "outputs": [],
   "source": [
    "img = cv2.imread('data/gerry.png')\n",
    "# cv2.imshow('Original', img)\n",
    "# cv2.waitKey(0)\n",
    "# cv2.destroyAllWindows()\n",
    "\n",
    "img_copy = img.copy()"
   ]
  },
  {
   "cell_type": "code",
   "execution_count": 4,
   "id": "3af92962-3237-405f-ae7e-02db263e26ef",
   "metadata": {},
   "outputs": [],
   "source": [
    "src_points = []\n",
    "\n",
    "#define destination points - of the resolution of final image eg 800x600\n",
    "dst_points = np.float32([\n",
    "    [0,0],\n",
    "    [0,800],\n",
    "    [600,800],\n",
    "    [600,0]\n",
    "])"
   ]
  },
  {
   "cell_type": "code",
   "execution_count": 5,
   "id": "4b40cbb5-f659-4ef0-990b-e27d0a4d03ef",
   "metadata": {},
   "outputs": [],
   "source": [
    "# create the window that gets the clicks\n",
    "cv2.namedWindow('Img', cv2.WINDOW_KEEPRATIO)\n",
    "cv2.setMouseCallback('Img', onClick)"
   ]
  },
  {
   "cell_type": "code",
   "execution_count": 6,
   "id": "432ff6db-01c9-443f-9286-80b30fa0117c",
   "metadata": {},
   "outputs": [],
   "source": [
    "#show the image for getting the clicks\n",
    "cv2.imshow('Img', img_copy)\n",
    "cv2.waitKey(0)\n",
    "cv2.destroyAllWindows()"
   ]
  },
  {
   "cell_type": "code",
   "execution_count": 7,
   "id": "2f7bd572-75ab-4f07-9e24-7e498948b67f",
   "metadata": {},
   "outputs": [],
   "source": [
    "#get the homography matrix\n",
    "src_float = np.float32(src_points)\n",
    "H = cv2.getPerspectiveTransform(src_float,dst_points)\n",
    "\n",
    "#apply H to the original img\n",
    "output_img =  cv2.warpPerspective(img,H,(600,800))"
   ]
  },
  {
   "cell_type": "code",
   "execution_count": 8,
   "id": "8dc19093-b9a1-4cf7-b723-d1d591469f03",
   "metadata": {},
   "outputs": [],
   "source": [
    "#show the final img\n",
    "cv2.namedWindow('Result', cv2.WINDOW_KEEPRATIO)"
   ]
  },
  {
   "cell_type": "code",
   "execution_count": null,
   "id": "72471b3f-0078-4a06-86cf-2df8ed69363e",
   "metadata": {},
   "outputs": [],
   "source": []
  }
 ],
 "metadata": {
  "kernelspec": {
   "display_name": "Python [conda env:base] *",
   "language": "python",
   "name": "conda-base-py"
  },
  "language_info": {
   "codemirror_mode": {
    "name": "ipython",
    "version": 3
   },
   "file_extension": ".py",
   "mimetype": "text/x-python",
   "name": "python",
   "nbconvert_exporter": "python",
   "pygments_lexer": "ipython3",
   "version": "3.12.7"
  }
 },
 "nbformat": 4,
 "nbformat_minor": 5
}
