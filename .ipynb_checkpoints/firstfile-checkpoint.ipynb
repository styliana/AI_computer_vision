{
 "cells": [
  {
   "cell_type": "markdown",
   "id": "86958ae3-1500-43a6-b909-9d5856ab1b04",
   "metadata": {},
   "source": [
    "# cell 1"
   ]
  },
  {
   "cell_type": "markdown",
   "id": "a045c4c5-beda-44c5-b718-356587aa8361",
   "metadata": {},
   "source": [
    "## cell2"
   ]
  },
  {
   "cell_type": "markdown",
   "id": "ee6974a6-462e-49bf-8fa8-3b722fc03618",
   "metadata": {},
   "source": []
  },
  {
   "cell_type": "markdown",
   "id": "a4589fb1-7557-4496-bdc3-d2ad62b4033e",
   "metadata": {},
   "source": [
    "**text1**"
   ]
  },
  {
   "cell_type": "markdown",
   "id": "e1f04d6d-45ce-4671-8a71-75bc9f5ae4be",
   "metadata": {},
   "source": [
    "**text2**"
   ]
  },
  {
   "cell_type": "markdown",
   "id": "c2042d00-b03e-43ea-a69f-02264a7138a0",
   "metadata": {},
   "source": [
    "- ok\n",
    "-  ok2"
   ]
  },
  {
   "cell_type": "markdown",
   "id": "456420bd-5b50-43ca-a9d5-7414816e4378",
   "metadata": {},
   "source": [
    "$$text$$"
   ]
  },
  {
   "cell_type": "code",
   "execution_count": null,
   "id": "dc4bff62-3d46-4fef-8faf-53a53971b590",
   "metadata": {},
   "outputs": [],
   "source": []
  },
  {
   "cell_type": "code",
   "execution_count": null,
   "id": "1cccb04b-f86b-4afd-8446-113d96cc4159",
   "metadata": {},
   "outputs": [],
   "source": []
  },
  {
   "cell_type": "code",
   "execution_count": null,
   "id": "861a0502-8b93-462f-9c16-83b5069cd1d0",
   "metadata": {},
   "outputs": [],
   "source": []
  }
 ],
 "metadata": {
  "kernelspec": {
   "display_name": "Python [conda env:base] *",
   "language": "python",
   "name": "conda-base-py"
  },
  "language_info": {
   "codemirror_mode": {
    "name": "ipython",
    "version": 3
   },
   "file_extension": ".py",
   "mimetype": "text/x-python",
   "name": "python",
   "nbconvert_exporter": "python",
   "pygments_lexer": "ipython3",
   "version": "3.12.7"
  }
 },
 "nbformat": 4,
 "nbformat_minor": 5
}
