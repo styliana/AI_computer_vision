{
 "cells": [
  {
   "cell_type": "markdown",
   "id": "89cc1aa8-0536-47be-98ed-bcee5d5796c1",
   "metadata": {},
   "source": [
    "### Introduction to numpy - matrices"
   ]
  },
  {
   "cell_type": "code",
   "execution_count": 31,
   "id": "938138a1-d710-4696-a253-1220392daa29",
   "metadata": {},
   "outputs": [
    {
     "name": "stdout",
     "output_type": "stream",
     "text": [
      "[5 0 3 3 7 9]\n",
      "The dimension is 1\n",
      "The size is 6\n",
      "The shape is (6,)\n",
      "\n",
      "x2:  [[3 5 2 4]\n",
      " [7 6 8 8]\n",
      " [1 6 7 7]]\n",
      "The dimension is 2\n",
      "The size is 12\n",
      "The shape is (3, 4)\n",
      "\n",
      "x3:  [[[8 1 5 9 8]\n",
      "  [9 4 3 0 3]\n",
      "  [5 0 2 3 8]\n",
      "  [1 3 3 3 7]]\n",
      "\n",
      " [[0 1 9 9 0]\n",
      "  [4 7 3 2 7]\n",
      "  [2 0 0 4 5]\n",
      "  [5 6 8 4 1]]\n",
      "\n",
      " [[4 9 8 1 1]\n",
      "  [7 9 9 3 6]\n",
      "  [7 2 0 3 5]\n",
      "  [9 4 4 6 4]]]\n",
      "The dimension is 3\n",
      "The size is 60\n",
      "The shape is (3, 4, 5)\n"
     ]
    }
   ],
   "source": [
    "import numpy as np\n",
    "\n",
    "np.random.seed(0) #will give u the same set of numbers each time u start the program\n",
    "\n",
    "x1 = np.random.randint(10, size = 6) # 10 upper limit. 6 elements. one dimmensional array\n",
    "x2 = np.random.randint(10, size = (3,4))\n",
    "x3 = np.random.randint(10, size = (3,4,5))\n",
    "\n",
    "print(x1) \n",
    "print(f'The dimension is {x1.ndim}') #num of dimensions\n",
    "print(f\"The size is {x1.size}\") #how many elements\n",
    "print(f\"The shape is {x1.shape}\\n\") #how many elements we have in each dimension\n",
    "\n",
    "print(f\"x2: \", x2)\n",
    "print(f'The dimension is {x2.ndim}') #num of dimensions\n",
    "print(f\"The size is {x2.size}\") #how many elements - basically multiplication of the elements in each dimesion\n",
    "print(f\"The shape is {x2.shape}\\n\") #how many elements we have in each dimension - how many on rows how many on columns\n",
    "\n",
    "print(f\"x3: \", x3)\n",
    "print(f'The dimension is {x3.ndim}') #num of dimensions\n",
    "print(f\"The size is {x3.size}\") #how many elements\n",
    "print(f\"The shape is {x3.shape}\") #how many elements we have in each dimension "
   ]
  },
  {
   "cell_type": "markdown",
   "id": "a65d431d-9866-41c3-b61d-ff0821d5a27f",
   "metadata": {},
   "source": [
    "### Accessin the elements"
   ]
  },
  {
   "cell_type": "code",
   "execution_count": 35,
   "id": "5d6f071e-c7db-4b7d-b4fd-ffde2f8b804b",
   "metadata": {},
   "outputs": [
    {
     "name": "stdout",
     "output_type": "stream",
     "text": [
      "[5 0 3 3 7 9]\n",
      "0\n"
     ]
    }
   ],
   "source": [
    "print(x1)\n",
    "print(x1[1])"
   ]
  },
  {
   "cell_type": "code",
   "execution_count": 41,
   "id": "fcc8a65d-e257-4158-a4b4-cb934cb3c35a",
   "metadata": {},
   "outputs": [
    {
     "name": "stdout",
     "output_type": "stream",
     "text": [
      "[[3 5 2 4]\n",
      " [7 6 8 8]\n",
      " [1 6 7 7]]\n",
      "3\n",
      "4\n"
     ]
    }
   ],
   "source": [
    "print(x2)\n",
    "print(x2[0,0])\n",
    "print(x2[0,3])"
   ]
  },
  {
   "cell_type": "code",
   "execution_count": 44,
   "id": "a170806f-629e-44e5-b647-32c8f5ea9674",
   "metadata": {},
   "outputs": [
    {
     "name": "stdout",
     "output_type": "stream",
     "text": [
      "[[3 5 2 4]\n",
      " [7 6 8 8]\n",
      " [1 6 7 7]]\n",
      "4\n"
     ]
    }
   ],
   "source": [
    "print(x2)\n",
    "print(x2[0,-1]) #first row, last column"
   ]
  },
  {
   "cell_type": "code",
   "execution_count": 46,
   "id": "4320f339-10ac-4304-ab5a-62f13de656ca",
   "metadata": {},
   "outputs": [
    {
     "name": "stdout",
     "output_type": "stream",
     "text": [
      "[[99  5  2  4]\n",
      " [ 7  6  8  8]\n",
      " [ 1  6  7  7]]\n"
     ]
    }
   ],
   "source": [
    "x2[0,0] = 99\n",
    "print(x2)"
   ]
  },
  {
   "cell_type": "code",
   "execution_count": 52,
   "id": "f1d377e5-2ae7-452e-9d37-e7340aeae8db",
   "metadata": {},
   "outputs": [
    {
     "name": "stdout",
     "output_type": "stream",
     "text": [
      "[[3 5 2 4]\n",
      " [7 6 8 8]\n",
      " [1 6 7 7]]\n"
     ]
    }
   ],
   "source": [
    "x2[0,0] = 3.14 #if u add float it will lose the value and convert to int ---> because previously  we created it with randints\n",
    "print(x2)"
   ]
  },
  {
   "cell_type": "markdown",
   "id": "499b0582-ba7f-4a91-ace7-c8d2720017ca",
   "metadata": {},
   "source": [
    "### Slicing"
   ]
  },
  {
   "cell_type": "code",
   "execution_count": 68,
   "id": "a8071180-37c3-41c1-9f16-df75ca04c5a1",
   "metadata": {},
   "outputs": [
    {
     "name": "stdout",
     "output_type": "stream",
     "text": [
      "[5 0 3 3 7 9]\n",
      "[0 3]\n"
     ]
    }
   ],
   "source": [
    "print(x1)\n",
    "print(x1[1:5:2]) # startin from the first index, finish on the fifth index, skipping every one (even- bcs of 2)"
   ]
  },
  {
   "cell_type": "code",
   "execution_count": 66,
   "id": "9a8c3ad3-814d-46d5-bac1-2f4ce4ccbc4d",
   "metadata": {},
   "outputs": [
    {
     "name": "stdout",
     "output_type": "stream",
     "text": [
      "[5 0 3 3 7]\n",
      "[3 3 7 9]\n"
     ]
    }
   ],
   "source": [
    "print(x1[:5]) #up to the 5th element\n",
    "print(x1[2:]) #start from the element on the 2nd index"
   ]
  },
  {
   "cell_type": "code",
   "execution_count": 72,
   "id": "522df24b-97c4-4c3c-adc1-e66768960ba0",
   "metadata": {},
   "outputs": [
    {
     "name": "stdout",
     "output_type": "stream",
     "text": [
      "[9 7 3 3 0 5]\n"
     ]
    }
   ],
   "source": [
    "print(x1[::-1]) #reverse"
   ]
  },
  {
   "cell_type": "code",
   "execution_count": 74,
   "id": "3f51d5cd-15b5-4550-949c-8b019c02af2e",
   "metadata": {},
   "outputs": [
    {
     "name": "stdout",
     "output_type": "stream",
     "text": [
      "[[3 5 2 4]\n",
      " [7 6 8 8]\n",
      " [1 6 7 7]]\n"
     ]
    },
    {
     "data": {
      "text/plain": [
       "array([[3, 5, 2],\n",
       "       [7, 6, 8]])"
      ]
     },
     "execution_count": 74,
     "metadata": {},
     "output_type": "execute_result"
    }
   ],
   "source": [
    "print(x2)\n",
    "x2[:2,:3] #start from the beggining and finish on the 2nd row, and for columns we start from begining and finish on the 3rd)"
   ]
  },
  {
   "cell_type": "code",
   "execution_count": 76,
   "id": "e8edf41f-b1e3-45b4-8193-e234bab080de",
   "metadata": {},
   "outputs": [
    {
     "name": "stdout",
     "output_type": "stream",
     "text": [
      "[3 7 1]\n"
     ]
    }
   ],
   "source": [
    "print(x2[:,0]) #get all the rows and just the 1st column"
   ]
  },
  {
   "cell_type": "code",
   "execution_count": 78,
   "id": "583aa49d-2a34-4075-8ec5-ac8ce4a6fdf9",
   "metadata": {},
   "outputs": [
    {
     "name": "stdout",
     "output_type": "stream",
     "text": [
      "[7 6 8 8]\n"
     ]
    }
   ],
   "source": [
    "print(x2[1,:])"
   ]
  },
  {
   "cell_type": "code",
   "execution_count": 82,
   "id": "6cd86813-a2e0-4ad8-a33c-dcc275ec59d6",
   "metadata": {},
   "outputs": [
    {
     "name": "stdout",
     "output_type": "stream",
     "text": [
      "[7 6 8 8]\n"
     ]
    }
   ],
   "source": [
    "print(x2[1]) #works for rows too "
   ]
  },
  {
   "cell_type": "markdown",
   "id": "af000f58-f94a-49b2-9b44-6015ae687fef",
   "metadata": {},
   "source": [
    "### Submatrix"
   ]
  },
  {
   "cell_type": "code",
   "execution_count": 95,
   "id": "5d126c2a-70e1-44ec-80bd-bd6e2ab581ec",
   "metadata": {},
   "outputs": [
    {
     "name": "stdout",
     "output_type": "stream",
     "text": [
      "[[3 5]\n",
      " [7 6]]\n"
     ]
    }
   ],
   "source": [
    "# can be considered to be a specific part of our image\n",
    "x2_sub = x2[:2,:2] #submatrix is composed of first 2 col and 2 rows of x2\n",
    "print(x2_sub)"
   ]
  },
  {
   "cell_type": "code",
   "execution_count": 107,
   "id": "68a1bd5d-360e-43e8-a6fc-025aa9fb6272",
   "metadata": {},
   "outputs": [
    {
     "name": "stdout",
     "output_type": "stream",
     "text": [
      "[[99 99]\n",
      " [ 7  6]]\n",
      "[[99 99  2  4]\n",
      " [ 7  6  8  8]\n",
      " [ 1  6  7  7]]\n"
     ]
    }
   ],
   "source": [
    "x2_sub[0,0] = 99\n",
    "print(x2_sub)\n",
    "print(x2)"
   ]
  },
  {
   "cell_type": "markdown",
   "id": "b2fe7e56-098d-4e2b-8105-7936aaeedb8e",
   "metadata": {},
   "source": [
    "OMG also the original matrx had been modified!!!!!\n",
    "You are not copying, you create a view by this way"
   ]
  },
  {
   "cell_type": "code",
   "execution_count": 104,
   "id": "14c16476-7424-4c52-9af9-940da3f793e8",
   "metadata": {},
   "outputs": [
    {
     "name": "stdout",
     "output_type": "stream",
     "text": [
      "[[99 99]\n",
      " [ 7  6]]\n"
     ]
    }
   ],
   "source": [
    "x2_sub = x2[:2,:2].copy() #here u copy\n",
    "print(x2_sub)"
   ]
  },
  {
   "cell_type": "markdown",
   "id": "ad9f8319-e3ce-4d80-a753-f394bcc76628",
   "metadata": {},
   "source": [
    "### REshape"
   ]
  },
  {
   "cell_type": "code",
   "execution_count": 109,
   "id": "33eaaac2-1544-4eb8-b716-b3bbd9872e78",
   "metadata": {},
   "outputs": [
    {
     "name": "stdout",
     "output_type": "stream",
     "text": [
      "[5 0 3 3 7 9]\n",
      "[[5 0]\n",
      " [3 3]\n",
      " [7 9]]\n"
     ]
    }
   ],
   "source": [
    "x1_grid = x1.reshape((3,-1))\n",
    "print(x1)\n",
    "print(x1_grid)"
   ]
  },
  {
   "cell_type": "code",
   "execution_count": 115,
   "id": "09652304-4b7f-4a74-a262-cd2bcacf7222",
   "metadata": {},
   "outputs": [
    {
     "name": "stdout",
     "output_type": "stream",
     "text": [
      "[[99 99  2  4]\n",
      " [ 7  6  8  8]\n",
      " [ 1  6  7  7]]\n",
      "[[99 99  2  4  7  6]\n",
      " [ 8  8  1  6  7  7]]\n"
     ]
    }
   ],
   "source": [
    "x2_linear = x2.reshape((2,-1))\n",
    "print(x2)\n",
    "print(x2_linear)"
   ]
  },
  {
   "cell_type": "markdown",
   "id": "bf075c92-51b8-4b5e-a7f9-f77db2874a08",
   "metadata": {},
   "source": [
    "### Concatenate'ing arrays"
   ]
  },
  {
   "cell_type": "code",
   "execution_count": 120,
   "id": "5364c48d-a461-4ad9-adb8-fe08b17245b7",
   "metadata": {},
   "outputs": [
    {
     "name": "stdout",
     "output_type": "stream",
     "text": [
      "[1 2 3 4 5 6]\n"
     ]
    }
   ],
   "source": [
    "x = np.array([1,2,3])\n",
    "y = np.array([4,5,6])\n",
    "\n",
    "new_array = np.concatenate([x,y])\n",
    "print(new_array)"
   ]
  },
  {
   "cell_type": "code",
   "execution_count": 123,
   "id": "da3eab2b-c1eb-482d-8f4e-a1c750e260b1",
   "metadata": {},
   "outputs": [
    {
     "name": "stdout",
     "output_type": "stream",
     "text": [
      "[[1 2 3]\n",
      " [4 5 6]\n",
      " [1 2 3]\n",
      " [4 5 6]]\n"
     ]
    }
   ],
   "source": [
    "z = np.array([\n",
    "    [1,2,3],\n",
    "    [4,5,6]\n",
    "])\n",
    "new_array = np.concatenate([z,z])\n",
    "print(new_array)"
   ]
  },
  {
   "cell_type": "code",
   "execution_count": 127,
   "id": "1cb88bb3-2e5d-4d7b-9ac1-414c1bd3b323",
   "metadata": {},
   "outputs": [
    {
     "name": "stdout",
     "output_type": "stream",
     "text": [
      "[[1 2 3]\n",
      " [4 5 6]\n",
      " [1 2 3]]\n"
     ]
    }
   ],
   "source": [
    "new_array = np.vstack([z,x])\n",
    "print(new_array)"
   ]
  },
  {
   "cell_type": "code",
   "execution_count": 135,
   "id": "dd725103-21ba-4482-a012-0cd964bdaee7",
   "metadata": {},
   "outputs": [
    {
     "name": "stdout",
     "output_type": "stream",
     "text": [
      "[[99  1  2  3]\n",
      " [99  4  5  6]]\n"
     ]
    }
   ],
   "source": [
    "y = np.array([\n",
    "    [99],\n",
    "    [99]\n",
    "])\n",
    "z = np.array([\n",
    "    [1,2,3],\n",
    "    [4,5,6]\n",
    "])\n",
    "new_array = np.hstack([y,z])\n",
    "print(new_array)\n",
    "\n",
    "# if: y = np.array([[99]]) \n",
    "# new_array = np.hstack([y,z])\n",
    "# print(new_array)\n",
    "# ValueError: all the input array dimensions except for the concatenation axis must match exactly, \n",
    "# but along dimension 0, the array at index 0 has size 1 and the array at index 1 has size 2\n"
   ]
  },
  {
   "cell_type": "markdown",
   "id": "50fa8666-32b0-4eb9-92f2-cc3cd4e04120",
   "metadata": {},
   "source": [
    "### Splitting"
   ]
  },
  {
   "cell_type": "code",
   "execution_count": 143,
   "id": "af0b7741-33fb-43c1-9c72-63844d445867",
   "metadata": {},
   "outputs": [
    {
     "name": "stdout",
     "output_type": "stream",
     "text": [
      "[1 2 3 4 5]\n",
      "[6 7 8 9]\n"
     ]
    }
   ],
   "source": [
    "x = [1,2,3,4,5,6,7,8,9]\n",
    "x1,x2 =np. split(x,[5]) #number of indexes +1 is the final number of the arrays that u get\n",
    "print(x1)\n",
    "print(x2)"
   ]
  },
  {
   "cell_type": "code",
   "execution_count": 147,
   "id": "70af8e2a-8394-4348-be44-d4c3e64e0b31",
   "metadata": {},
   "outputs": [
    {
     "name": "stdout",
     "output_type": "stream",
     "text": [
      "[1 2 3]\n",
      "[4 5 6]\n",
      "[7 8 9]\n"
     ]
    }
   ],
   "source": [
    "x1,x2,x3 =np.split(x,[3,6])\n",
    "print(x1)\n",
    "print(x2)\n",
    "print(x3)"
   ]
  },
  {
   "cell_type": "code",
   "execution_count": 153,
   "id": "46d0ef8b-1e74-4937-9ee2-22632ab629e4",
   "metadata": {},
   "outputs": [
    {
     "name": "stdout",
     "output_type": "stream",
     "text": [
      "[[1 2 3]]\n",
      "[[4 5 6]]\n"
     ]
    }
   ],
   "source": [
    "x1,x2 =np.vsplit(z,[1])\n",
    "print(x1)\n",
    "print(x2)"
   ]
  },
  {
   "cell_type": "code",
   "execution_count": 155,
   "id": "1e321a2a-a985-464e-b942-49dbc76c683e",
   "metadata": {},
   "outputs": [
    {
     "name": "stdout",
     "output_type": "stream",
     "text": [
      "[[1]\n",
      " [4]]\n",
      "[[2 3]\n",
      " [5 6]]\n"
     ]
    }
   ],
   "source": [
    "x1,x2 =np.hsplit(z,[1])\n",
    "print(x1)\n",
    "print(x2)"
   ]
  },
  {
   "cell_type": "code",
   "execution_count": null,
   "id": "b32bbc2c-2de9-488d-95c0-8786e2a2c47b",
   "metadata": {},
   "outputs": [],
   "source": []
  },
  {
   "cell_type": "code",
   "execution_count": null,
   "id": "f23fac59-1b11-45e2-81fa-b35580e97092",
   "metadata": {},
   "outputs": [],
   "source": []
  },
  {
   "cell_type": "code",
   "execution_count": null,
   "id": "425ab012-f504-44bb-ad10-5ab8af559109",
   "metadata": {},
   "outputs": [],
   "source": []
  }
 ],
 "metadata": {
  "kernelspec": {
   "display_name": "Python [conda env:base] *",
   "language": "python",
   "name": "conda-base-py"
  },
  "language_info": {
   "codemirror_mode": {
    "name": "ipython",
    "version": 3
   },
   "file_extension": ".py",
   "mimetype": "text/x-python",
   "name": "python",
   "nbconvert_exporter": "python",
   "pygments_lexer": "ipython3",
   "version": "3.12.7"
  }
 },
 "nbformat": 4,
 "nbformat_minor": 5
}
